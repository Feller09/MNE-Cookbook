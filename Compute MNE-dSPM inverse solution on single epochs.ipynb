{
 "cells": [
  {
   "cell_type": "markdown",
   "metadata": {},
   "source": [
    "#### Compute dSPM inverse solution on single trial epochs restricted to a brain label."
   ]
  },
  {
   "cell_type": "code",
   "execution_count": 2,
   "metadata": {},
   "outputs": [],
   "source": [
    "from mne.minimum_norm import apply_inverse_epochs,read_inverse_operator\n",
    "from mne.minimum_norm import apply_inverse"
   ]
  },
  {
   "cell_type": "code",
   "execution_count": 3,
   "metadata": {},
   "outputs": [],
   "source": [
    "import numpy as np\n",
    "import matplotlib.pyplot as plt\n",
    "\n",
    "import mne\n",
    "from mne.datasets import sample"
   ]
  },
  {
   "cell_type": "code",
   "execution_count": 4,
   "metadata": {},
   "outputs": [],
   "source": [
    "data_path = sample.data_path()\n",
    "fname_inv = data_path + '/MEG/sample/sample_audvis-meg-oct-6-meg-inv.fif'\n",
    "fname_raw = data_path + '/MEG/sample/sample_audvis_filt-0-40_raw.fif'\n",
    "fname_event = data_path + '/MEG/sample/sample_audvis_filt-0-40_raw-eve.fif'\n",
    "label_name = 'Aud-lh'\n",
    "fname_label = data_path + '/MEG/sample/labels/%s.label' % label_name"
   ]
  },
  {
   "cell_type": "code",
   "execution_count": 5,
   "metadata": {},
   "outputs": [],
   "source": [
    "event_id, tmin, tmax = 1, -0.2, 0.5\n",
    "\n",
    "# Using the same inverse operator when inspecting single trials Vs. evoked\n",
    "snr = 3.0  # Standard assumption for average data but using it for single trial\n",
    "lambda2 = 1.0 / snr ** 2\n",
    "\n",
    "method = \"dSPM\"  # use dSPM method (could also be MNE or sLORETA)"
   ]
  },
  {
   "cell_type": "code",
   "execution_count": 6,
   "metadata": {},
   "outputs": [
    {
     "name": "stdout",
     "output_type": "stream",
     "text": [
      "Reading inverse operator decomposition from /home/reallocing/mne_data/MNE-sample-data/MEG/sample/sample_audvis-meg-oct-6-meg-inv.fif...\n",
      "    Reading inverse operator info...\n",
      "    [done]\n",
      "    Reading inverse operator decomposition...\n",
      "    [done]\n",
      "    305 x 305 full covariance (kind = 1) found.\n",
      "    Read a total of 4 projection items:\n",
      "        PCA-v1 (1 x 102) active\n",
      "        PCA-v2 (1 x 102) active\n",
      "        PCA-v3 (1 x 102) active\n",
      "        Average EEG reference (1 x 60) active\n",
      "    Noise covariance matrix read.\n",
      "    22494 x 22494 diagonal covariance (kind = 2) found.\n",
      "    Source covariance matrix read.\n",
      "    22494 x 22494 diagonal covariance (kind = 6) found.\n",
      "    Orientation priors read.\n",
      "    22494 x 22494 diagonal covariance (kind = 5) found.\n",
      "    Depth priors read.\n",
      "    Did not find the desired covariance matrix (kind = 3)\n",
      "    Reading a source space...\n",
      "    Computing patch statistics...\n",
      "    Patch information added...\n",
      "    Distance information added...\n",
      "    [done]\n",
      "    Reading a source space...\n",
      "    Computing patch statistics...\n",
      "    Patch information added...\n",
      "    Distance information added...\n",
      "    [done]\n",
      "    2 source spaces read\n",
      "    Read a total of 4 projection items:\n",
      "        PCA-v1 (1 x 102) active\n",
      "        PCA-v2 (1 x 102) active\n",
      "        PCA-v3 (1 x 102) active\n",
      "        Average EEG reference (1 x 60) active\n",
      "    Source spaces transformed to the inverse solution coordinate frame\n",
      "Opening raw data file /home/reallocing/mne_data/MNE-sample-data/MEG/sample/sample_audvis_filt-0-40_raw.fif...\n",
      "    Read a total of 4 projection items:\n",
      "        PCA-v1 (1 x 102)  idle\n",
      "        PCA-v2 (1 x 102)  idle\n",
      "        PCA-v3 (1 x 102)  idle\n",
      "        Average EEG reference (1 x 60)  idle\n",
      "    Range : 6450 ... 48149 =     42.956 ...   320.665 secs\n",
      "Ready.\n",
      "Current compensation grade : 0\n"
     ]
    }
   ],
   "source": [
    "# load data\n",
    "inverse_operator = read_inverse_operator(fname_inv)\n",
    "label = mne.read_label(fname_label)\n",
    "raw = mne.io.read_raw_fif(fname_raw)\n",
    "events = mne.read_events(fname_event)"
   ]
  },
  {
   "cell_type": "code",
   "execution_count": 19,
   "metadata": {},
   "outputs": [
    {
     "data": {
      "text/plain": [
       "array([[-0.02174, -0.01283, -0.01217],\n",
       "       [-0.02165, -0.01262, -0.01242],\n",
       "       [-0.02133, -0.01223, -0.01194],\n",
       "       ..., \n",
       "       [-0.02196,  0.01411, -0.02296],\n",
       "       [-0.02242,  0.01382, -0.02308],\n",
       "       [-0.02276,  0.01343, -0.02312]])"
      ]
     },
     "execution_count": 19,
     "metadata": {},
     "output_type": "execute_result"
    }
   ],
   "source": [
    "label.pos"
   ]
  },
  {
   "cell_type": "code",
   "execution_count": 20,
   "metadata": {},
   "outputs": [],
   "source": [
    "# Set up pick list\n",
    "include = []\n",
    "raw.info['bads'] += ['EEG 053']"
   ]
  },
  {
   "cell_type": "code",
   "execution_count": 22,
   "metadata": {},
   "outputs": [],
   "source": [
    "# pick MEG channels\n",
    "picks = mne.pick_types(raw.info,meg=True,eeg=False,stim=False,eog=True,include=include,exclude='bads')"
   ]
  },
  {
   "cell_type": "code",
   "execution_count": 24,
   "metadata": {},
   "outputs": [
    {
     "name": "stdout",
     "output_type": "stream",
     "text": [
      "72 matching events found\n",
      "Applying baseline correction (mode: mean)\n",
      "Not setting metadata\n",
      "Created an SSP operator (subspace dimension = 3)\n",
      "4 projection items activated\n"
     ]
    }
   ],
   "source": [
    "# read epochs\n",
    "epochs = mne.Epochs(raw,events,event_id,tmin,tmax,picks=picks,baseline=(None,0),reject=dict(mag=4e-12,grad=4000e-13,eog=150e-6))"
   ]
  },
  {
   "cell_type": "code",
   "execution_count": 25,
   "metadata": {},
   "outputs": [
    {
     "name": "stdout",
     "output_type": "stream",
     "text": [
      "    Rejecting  epoch based on EOG : [u'EOG 061']\n",
      "    Rejecting  epoch based on EOG : [u'EOG 061']\n",
      "    Rejecting  epoch based on EOG : [u'EOG 061']\n",
      "    Rejecting  epoch based on EOG : [u'EOG 061']\n",
      "    Rejecting  epoch based on EOG : [u'EOG 061']\n",
      "    Rejecting  epoch based on MAG : [u'MEG 1711']\n",
      "    Rejecting  epoch based on EOG : [u'EOG 061']\n",
      "    Rejecting  epoch based on EOG : [u'EOG 061']\n",
      "    Rejecting  epoch based on EOG : [u'EOG 061']\n",
      "    Rejecting  epoch based on EOG : [u'EOG 061']\n",
      "    Rejecting  epoch based on EOG : [u'EOG 061']\n",
      "    Rejecting  epoch based on EOG : [u'EOG 061']\n",
      "    Rejecting  epoch based on EOG : [u'EOG 061']\n",
      "    Rejecting  epoch based on EOG : [u'EOG 061']\n",
      "    Rejecting  epoch based on EOG : [u'EOG 061']\n",
      "    Rejecting  epoch based on EOG : [u'EOG 061']\n",
      "    Rejecting  epoch based on EOG : [u'EOG 061']\n"
     ]
    }
   ],
   "source": [
    "# Get evoked data (averaging across trials in sensor space)\n",
    "evoked = epochs.average()"
   ]
  },
  {
   "cell_type": "code",
   "execution_count": 27,
   "metadata": {},
   "outputs": [
    {
     "name": "stdout",
     "output_type": "stream",
     "text": [
      "Preparing the inverse operator for use...\n",
      "    Scaled noise and source covariance from nave = 1 to nave = 55\n",
      "    Created the regularized inverter\n",
      "    Created an SSP operator (subspace dimension = 3)\n",
      "    Created the whitener using a noise covariance matrix with rank 302 (3 small eigenvalues omitted)\n",
      "    Computing noise-normalization factors (dSPM)...\n",
      "[done]\n",
      "Picked 305 channels from the data\n",
      "Computing inverse...\n",
      "    Eigenleads need to be weighted ...\n",
      "Processing epoch : 1\n",
      "Processing epoch : 2\n",
      "Processing epoch : 3\n",
      "Processing epoch : 4\n",
      "Processing epoch : 5\n",
      "Processing epoch : 6\n",
      "Processing epoch : 7\n",
      "Processing epoch : 8\n",
      "Processing epoch : 9\n",
      "Processing epoch : 10\n",
      "    Rejecting  epoch based on EOG : [u'EOG 061']\n",
      "Processing epoch : 11\n",
      "Processing epoch : 12\n",
      "Processing epoch : 13\n",
      "    Rejecting  epoch based on EOG : [u'EOG 061']\n",
      "    Rejecting  epoch based on EOG : [u'EOG 061']\n",
      "Processing epoch : 14\n",
      "Processing epoch : 15\n",
      "Processing epoch : 16\n",
      "Processing epoch : 17\n",
      "    Rejecting  epoch based on EOG : [u'EOG 061']\n",
      "Processing epoch : 18\n",
      "Processing epoch : 19\n",
      "Processing epoch : 20\n",
      "    Rejecting  epoch based on EOG : [u'EOG 061']\n",
      "Processing epoch : 21\n",
      "Processing epoch : 22\n",
      "Processing epoch : 23\n",
      "    Rejecting  epoch based on MAG : [u'MEG 1711']\n",
      "Processing epoch : 24\n",
      "Processing epoch : 25\n",
      "Processing epoch : 26\n",
      "Processing epoch : 27\n",
      "Processing epoch : 28\n",
      "    Rejecting  epoch based on EOG : [u'EOG 061']\n",
      "Processing epoch : 29\n",
      "Processing epoch : 30\n",
      "Processing epoch : 31\n",
      "    Rejecting  epoch based on EOG : [u'EOG 061']\n",
      "Processing epoch : 32\n",
      "Processing epoch : 33\n",
      "    Rejecting  epoch based on EOG : [u'EOG 061']\n",
      "Processing epoch : 34\n",
      "Processing epoch : 35\n",
      "    Rejecting  epoch based on EOG : [u'EOG 061']\n",
      "    Rejecting  epoch based on EOG : [u'EOG 061']\n",
      "Processing epoch : 36\n",
      "    Rejecting  epoch based on EOG : [u'EOG 061']\n",
      "    Rejecting  epoch based on EOG : [u'EOG 061']\n",
      "Processing epoch : 37\n",
      "Processing epoch : 38\n",
      "Processing epoch : 39\n",
      "Processing epoch : 40\n",
      "Processing epoch : 41\n",
      "Processing epoch : 42\n",
      "Processing epoch : 43\n",
      "Processing epoch : 44\n",
      "    Rejecting  epoch based on EOG : [u'EOG 061']\n",
      "Processing epoch : 45\n",
      "    Rejecting  epoch based on EOG : [u'EOG 061']\n",
      "Processing epoch : 46\n",
      "Processing epoch : 47\n",
      "Processing epoch : 48\n",
      "    Rejecting  epoch based on EOG : [u'EOG 061']\n",
      "    Rejecting  epoch based on EOG : [u'EOG 061']\n",
      "Processing epoch : 49\n",
      "Processing epoch : 50\n",
      "Processing epoch : 51\n",
      "Processing epoch : 52\n",
      "Processing epoch : 53\n",
      "Processing epoch : 54\n",
      "Processing epoch : 55\n",
      "[done]\n",
      "Preparing the inverse operator for use...\n",
      "    Scaled noise and source covariance from nave = 1 to nave = 55\n",
      "    Created the regularized inverter\n",
      "    Created an SSP operator (subspace dimension = 3)\n",
      "    Created the whitener using a noise covariance matrix with rank 302 (3 small eigenvalues omitted)\n",
      "    Computing noise-normalization factors (dSPM)...\n",
      "[done]\n",
      "Applying inverse operator to \"1\"...\n",
      "    Picked 305 channels from the data\n",
      "    Computing inverse...\n",
      "    Eigenleads need to be weighted ...\n",
      "    Computing residual...\n",
      "    Explained  59.3% variance\n",
      "    dSPM...\n",
      "[done]\n"
     ]
    }
   ],
   "source": [
    "# Compute inverse solution and stcs for each epoch\n",
    "# Use the same inverse operator as with evoked data (i.e., set nave)\n",
    "# If you use a different nave, dSPM just scales by a factor sqrt(nave)\n",
    "stcs = apply_inverse_epochs(epochs,inverse_operator,lambda2,method,label,pick_ori='normal',nave=evoked.nave)\n",
    "stc_evoked = apply_inverse(evoked,inverse_operator,lambda2,method,pick_ori='normal')"
   ]
  },
  {
   "cell_type": "code",
   "execution_count": 28,
   "metadata": {},
   "outputs": [],
   "source": [
    "stc_evoked_label = stc_evoked.in_label(label)"
   ]
  },
  {
   "cell_type": "code",
   "execution_count": 29,
   "metadata": {},
   "outputs": [
    {
     "data": {
      "text/plain": [
       "<SourceEstimate  |  33 vertices, subject : sample, tmin : -199.795213158 (ms), tmax : 499.488032896 (ms), tstep : 6.65984043861 (ms), data shape : (33, 106)>"
      ]
     },
     "execution_count": 29,
     "metadata": {},
     "output_type": "execute_result"
    }
   ],
   "source": [
    "stc_evoked_label"
   ]
  },
  {
   "cell_type": "code",
   "execution_count": 31,
   "metadata": {},
   "outputs": [
    {
     "name": "stdout",
     "output_type": "stream",
     "text": [
      "Preparing the inverse operator for use...\n",
      "    Scaled noise and source covariance from nave = 1 to nave = 55\n",
      "    Created the regularized inverter\n",
      "    Created an SSP operator (subspace dimension = 3)\n",
      "    Created the whitener using a noise covariance matrix with rank 302 (3 small eigenvalues omitted)\n",
      "    Computing noise-normalization factors (dSPM)...\n",
      "[done]\n",
      "Applying inverse operator to \"1\"...\n",
      "    Picked 305 channels from the data\n",
      "    Computing inverse...\n",
      "    Eigenleads need to be weighted ...\n",
      "    Computing residual...\n",
      "    Explained  59.3% variance\n",
      "    dSPM...\n",
      "[done]\n"
     ]
    }
   ],
   "source": [
    "# Mean across trials but not across vertices in label\n",
    "mean_stc = sum(stcs) / len(stcs)\n",
    "\n",
    "# compute sign flip to avoid signal cancellation when averaging signed values\n",
    "flip = mne.label_sign_flip(label, inverse_operator['src'])\n",
    "\n",
    "label_mean = np.mean(mean_stc.data, axis=0)\n",
    "label_mean_flip = np.mean(flip[:, np.newaxis] * mean_stc.data, axis=0)\n",
    "\n",
    "# Get inverse solution by inverting evoked data\n",
    "stc_evoked = apply_inverse(evoked, inverse_operator, lambda2, method,\n",
    "                           pick_ori=\"normal\")\n",
    "\n",
    "# apply_inverse() does whole brain, so sub-select label of interest\n",
    "stc_evoked_label = stc_evoked.in_label(label)\n",
    "\n",
    "# Average over label (not caring to align polarities here)\n",
    "label_mean_evoked = np.mean(stc_evoked_label.data, axis=0)"
   ]
  },
  {
   "cell_type": "code",
   "execution_count": 32,
   "metadata": {},
   "outputs": [
    {
     "data": {
      "image/png": "[encoded data removed]",
      "text/plain": [
       "<matplotlib.figure.Figure at 0x7fa311799e50>"
      ]
     },
     "metadata": {},
     "output_type": "display_data"
    }
   ],
   "source": [
    "## View activation time-series to illustrate the benefit of aligning/flipping\n",
    "times = 1e3 * stcs[0].times  # times in ms\n",
    "\n",
    "plt.figure()\n",
    "h0 = plt.plot(times, mean_stc.data.T, 'k')\n",
    "h1, = plt.plot(times, label_mean, 'r', linewidth=3)\n",
    "h2, = plt.plot(times, label_mean_flip, 'g', linewidth=3)\n",
    "plt.legend((h0[0], h1, h2), ('all dipoles in label', 'mean',\n",
    "                             'mean with sign flip'))\n",
    "plt.xlabel('time (ms)')\n",
    "plt.ylabel('dSPM value')\n",
    "plt.show()"
   ]
  },
  {
   "cell_type": "code",
   "execution_count": null,
   "metadata": {},
   "outputs": [],
   "source": []
  }
 ],
 "metadata": {
  "kernelspec": {
   "display_name": "Python [default]",
   "language": "python",
   "name": "python2"
  },
  "language_info": {
   "codemirror_mode": {
    "name": "ipython",
    "version": 2
   },
   "file_extension": ".py",
   "mimetype": "text/x-python",
   "name": "python",
   "nbconvert_exporter": "python",
   "pygments_lexer": "ipython2",
   "version": "2.7.15"
  }
 },
 "nbformat": 4,
 "nbformat_minor": 2
}
