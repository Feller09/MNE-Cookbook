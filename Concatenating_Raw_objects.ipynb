{
 "cells": [
  {
   "cell_type": "code",
   "execution_count": null,
   "metadata": {},
   "outputs": [],
   "source": [
    "# Create multiple :class:`Raw <mne.io.RawFIF>` objects\n",
    "raw1 = raw.copy().crop(0, 10)\n",
    "raw2 = raw.copy().crop(10, 20)\n",
    "raw3 = raw.copy().crop(20, 40)\n",
    "\n",
    "# Concatenate in time (also works without preloading)\n",
    "raw1.append([raw2, raw3])\n",
    "print('Time extends from', raw1.times.min(), 's to', raw1.times.max(), 's')"
   ]
  }
 ],
 "metadata": {
  "kernelspec": {
   "display_name": "Python [default]",
   "language": "python",
   "name": "python2"
  },
  "language_info": {
   "codemirror_mode": {
    "name": "ipython",
    "version": 2
   },
   "file_extension": ".py",
   "mimetype": "text/x-python",
   "name": "python",
   "nbconvert_exporter": "python",
   "pygments_lexer": "ipython2",
   "version": "2.7.15"
  }
 },
 "nbformat": 4,
 "nbformat_minor": 2
}
