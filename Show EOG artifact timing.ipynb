{
 "cells": [
  {
   "cell_type": "markdown",
   "metadata": {},
   "source": [
    "#### Compute the distribution of timing for EOG artifacts."
   ]
  },
  {
   "cell_type": "code",
   "execution_count": 4,
   "metadata": {},
   "outputs": [],
   "source": [
    "import numpy as np\n",
    "import matplotlib.pyplot as plt\n",
    "import mne\n",
    "from mne import io\n",
    "from mne.datasets import sample\n",
    "from mne.preprocessing import find_eog_events"
   ]
  },
  {
   "cell_type": "code",
   "execution_count": 3,
   "metadata": {},
   "outputs": [],
   "source": [
    "data_path = sample.data_path()\n",
    "raw_fname = data_path + '/MEG/sample/sample_audvis_filt-0-40_raw.fif'"
   ]
  },
  {
   "cell_type": "code",
   "execution_count": 6,
   "metadata": {},
   "outputs": [
    {
     "name": "stdout",
     "output_type": "stream",
     "text": [
      "Opening raw data file /home/reallocing/mne_data/MNE-sample-data/MEG/sample/sample_audvis_filt-0-40_raw.fif...\n",
      "    Read a total of 4 projection items:\n",
      "        PCA-v1 (1 x 102)  idle\n",
      "        PCA-v2 (1 x 102)  idle\n",
      "        PCA-v3 (1 x 102)  idle\n",
      "        Average EEG reference (1 x 60)  idle\n",
      "    Range : 6450 ... 48149 =     42.956 ...   320.665 secs\n",
      "Ready.\n",
      "Current compensation grade : 0\n",
      "Reading 0 ... 41699  =      0.000 ...   277.709 secs...\n",
      "319 events found\n",
      "Event IDs: [ 1  2  3  4  5 32]\n",
      "EOG channel index for this subject is: [375]\n",
      "Filtering the data to remove DC offset to help distinguish blinks from saccades\n",
      "Setting up band-pass filter from 2 - 45 Hz\n",
      "Filter length of 2048 samples (13.639 sec) selected\n",
      "Setting up band-pass filter from 1 - 10 Hz\n",
      "Filter length of 2048 samples (13.639 sec) selected\n",
      "Now detecting blinks and generating corresponding events\n",
      "Number of EOG events detected : 46\n"
     ]
    }
   ],
   "source": [
    "## Load Data\n",
    "raw = io.read_raw_fif(raw_fname,preload=True)\n",
    "events = mne.find_events(raw,'STI 014')\n",
    "eog_event_id = 512 #The index to assign to found events.\n",
    "eog_events = find_eog_events(raw,eog_event_id) # 即给找到的EOG事件命名 #https://martinos.org/mne/stable/generated/mne.preprocessing.find_eog_events.html\n",
    "raw.add_events(eog_events,'STI 014')"
   ]
  },
  {
   "cell_type": "code",
   "execution_count": 9,
   "metadata": {},
   "outputs": [
    {
     "name": "stdout",
     "output_type": "stream",
     "text": [
      "[u'MEG 0113', u'MEG 0112', u'MEG 0111', u'MEG 0122', u'MEG 0123', u'MEG 0121', u'MEG 0132', u'MEG 0133', u'MEG 0131', u'MEG 0143', u'MEG 0142', u'MEG 0141', u'MEG 0213', u'MEG 0212', u'MEG 0211', u'MEG 0222', u'MEG 0223', u'MEG 0221', u'MEG 0232', u'MEG 0233', u'MEG 0231', u'MEG 0243', u'MEG 0242', u'MEG 0241', u'MEG 0313', u'MEG 0312', u'MEG 0311', u'MEG 0322', u'MEG 0323', u'MEG 0321', u'MEG 0333', u'MEG 0332', u'MEG 0331', u'MEG 0343', u'MEG 0342', u'MEG 0341', u'MEG 0413', u'MEG 0412', u'MEG 0411', u'MEG 0422', u'MEG 0423', u'MEG 0421', u'MEG 0432', u'MEG 0433', u'MEG 0431', u'MEG 0443', u'MEG 0442', u'MEG 0441', u'MEG 0513', u'MEG 0512', u'MEG 0511', u'MEG 0523', u'MEG 0522', u'MEG 0521', u'MEG 0532', u'MEG 0533', u'MEG 0531', u'MEG 0542', u'MEG 0543', u'MEG 0541', u'MEG 0613', u'MEG 0612', u'MEG 0611', u'MEG 0622', u'MEG 0623', u'MEG 0621', u'MEG 0633', u'MEG 0632', u'MEG 0631', u'MEG 0642', u'MEG 0643', u'MEG 0641', u'MEG 0713', u'MEG 0712', u'MEG 0711', u'MEG 0723', u'MEG 0722', u'MEG 0721', u'MEG 0733', u'MEG 0732', u'MEG 0731', u'MEG 0743', u'MEG 0742', u'MEG 0741', u'MEG 0813', u'MEG 0812', u'MEG 0811', u'MEG 0822', u'MEG 0823', u'MEG 0821', u'MEG 0913', u'MEG 0912', u'MEG 0911', u'MEG 0923', u'MEG 0922', u'MEG 0921', u'MEG 0932', u'MEG 0933', u'MEG 0931', u'MEG 0942', u'MEG 0943', u'MEG 0941', u'MEG 1013', u'MEG 1012', u'MEG 1011', u'MEG 1023', u'MEG 1022', u'MEG 1021', u'MEG 1032', u'MEG 1033', u'MEG 1031', u'MEG 1043', u'MEG 1042', u'MEG 1041', u'MEG 1112', u'MEG 1113', u'MEG 1111', u'MEG 1123', u'MEG 1122', u'MEG 1121', u'MEG 1133', u'MEG 1132', u'MEG 1131', u'MEG 1142', u'MEG 1143', u'MEG 1141', u'MEG 1213', u'MEG 1212', u'MEG 1211', u'MEG 1223', u'MEG 1222', u'MEG 1221', u'MEG 1232', u'MEG 1233', u'MEG 1231', u'MEG 1243', u'MEG 1242', u'MEG 1241', u'MEG 1312', u'MEG 1313', u'MEG 1311', u'MEG 1323', u'MEG 1322', u'MEG 1321', u'MEG 1333', u'MEG 1332', u'MEG 1331', u'MEG 1342', u'MEG 1343', u'MEG 1341', u'MEG 1412', u'MEG 1413', u'MEG 1411', u'MEG 1423', u'MEG 1422', u'MEG 1421', u'MEG 1433', u'MEG 1432', u'MEG 1431', u'MEG 1442', u'MEG 1443', u'MEG 1441', u'MEG 1512', u'MEG 1513', u'MEG 1511', u'MEG 1522', u'MEG 1523', u'MEG 1521', u'MEG 1533', u'MEG 1532', u'MEG 1531', u'MEG 1543', u'MEG 1542', u'MEG 1541', u'MEG 1613', u'MEG 1612', u'MEG 1611', u'MEG 1622', u'MEG 1623', u'MEG 1621', u'MEG 1632', u'MEG 1633', u'MEG 1631', u'MEG 1643', u'MEG 1642', u'MEG 1641', u'MEG 1713', u'MEG 1712', u'MEG 1711', u'MEG 1722', u'MEG 1723', u'MEG 1721', u'MEG 1732', u'MEG 1733', u'MEG 1731', u'MEG 1743', u'MEG 1742', u'MEG 1741', u'MEG 1813', u'MEG 1812', u'MEG 1811', u'MEG 1822', u'MEG 1823', u'MEG 1821', u'MEG 1832', u'MEG 1833', u'MEG 1831', u'MEG 1843', u'MEG 1842', u'MEG 1841', u'MEG 1912', u'MEG 1913', u'MEG 1911', u'MEG 1923', u'MEG 1922', u'MEG 1921', u'MEG 1932', u'MEG 1933', u'MEG 1931', u'MEG 1943', u'MEG 1942', u'MEG 1941', u'MEG 2013', u'MEG 2012', u'MEG 2011', u'MEG 2023', u'MEG 2022', u'MEG 2021', u'MEG 2032', u'MEG 2033', u'MEG 2031', u'MEG 2042', u'MEG 2043', u'MEG 2041', u'MEG 2113', u'MEG 2112', u'MEG 2111', u'MEG 2122', u'MEG 2123', u'MEG 2121', u'MEG 2133', u'MEG 2132', u'MEG 2131', u'MEG 2143', u'MEG 2142', u'MEG 2141', u'MEG 2212', u'MEG 2213', u'MEG 2211', u'MEG 2223', u'MEG 2222', u'MEG 2221', u'MEG 2233', u'MEG 2232', u'MEG 2231', u'MEG 2242', u'MEG 2243', u'MEG 2241', u'MEG 2312', u'MEG 2313', u'MEG 2311', u'MEG 2323', u'MEG 2322', u'MEG 2321', u'MEG 2332', u'MEG 2333', u'MEG 2331', u'MEG 2343', u'MEG 2342', u'MEG 2341', u'MEG 2412', u'MEG 2413', u'MEG 2411', u'MEG 2423', u'MEG 2422', u'MEG 2421', u'MEG 2433', u'MEG 2432', u'MEG 2431', u'MEG 2442', u'MEG 2443', u'MEG 2441', u'MEG 2512', u'MEG 2513', u'MEG 2511', u'MEG 2522', u'MEG 2523', u'MEG 2521', u'MEG 2533', u'MEG 2532', u'MEG 2531', u'MEG 2543', u'MEG 2542', u'MEG 2541', u'MEG 2612', u'MEG 2613', u'MEG 2611', u'MEG 2623', u'MEG 2622', u'MEG 2621', u'MEG 2633', u'MEG 2632', u'MEG 2631', u'MEG 2642', u'MEG 2643', u'MEG 2641', u'STI 001', u'STI 002', u'STI 003', u'STI 004', u'STI 005', u'STI 006', u'STI 014', u'STI 015', u'STI 016', u'EEG 001', u'EEG 002', u'EEG 003', u'EEG 004', u'EEG 005', u'EEG 006', u'EEG 007', u'EEG 008', u'EEG 009', u'EEG 010', u'EEG 011', u'EEG 012', u'EEG 013', u'EEG 014', u'EEG 015', u'EEG 016', u'EEG 017', u'EEG 018', u'EEG 019', u'EEG 020', u'EEG 021', u'EEG 022', u'EEG 023', u'EEG 024', u'EEG 025', u'EEG 026', u'EEG 027', u'EEG 028', u'EEG 029', u'EEG 030', u'EEG 031', u'EEG 032', u'EEG 033', u'EEG 034', u'EEG 035', u'EEG 036', u'EEG 037', u'EEG 038', u'EEG 039', u'EEG 040', u'EEG 041', u'EEG 042', u'EEG 043', u'EEG 044', u'EEG 045', u'EEG 046', u'EEG 047', u'EEG 048', u'EEG 049', u'EEG 050', u'EEG 051', u'EEG 052', u'EEG 053', u'EEG 054', u'EEG 055', u'EEG 056', u'EEG 057', u'EEG 058', u'EEG 059', u'EEG 060', u'EOG 061']\n"
     ]
    }
   ],
   "source": [
    "print(raw.ch_names),"
   ]
  },
  {
   "cell_type": "code",
   "execution_count": 11,
   "metadata": {},
   "outputs": [
    {
     "name": "stdout",
     "output_type": "stream",
     "text": [
      "[[ 6994     0     2]\n",
      " [ 7086     0     3]\n",
      " [ 7192     0     1]\n",
      " [ 7304     0     4]\n",
      " [ 7413     0     2]\n",
      " [ 7506     0     3]\n",
      " [ 7612     0     1]\n",
      " [ 7709     0     4]\n",
      " [ 7810     0     2]\n",
      " [ 7916     0     3]\n",
      " [ 8025     0     1]\n",
      " [ 8129     0     4]\n",
      " [ 8233     0     2]\n",
      " [ 8331     0     3]\n",
      " [ 8428     0     1]\n",
      " [ 8522     0     5]\n",
      " [ 8633     0     2]\n",
      " [ 8662     0    32]\n",
      " [ 8739     0     3]\n",
      " [ 8857     0     1]\n",
      " [ 8962     0     4]\n",
      " [ 9052     0     2]\n",
      " [ 9144     0     3]\n",
      " [ 9251     0     1]\n",
      " [ 9365     0     4]\n",
      " [ 9477     0     2]\n",
      " [ 9581     0     3]\n",
      " [ 9677     0     1]\n",
      " [ 9782     0     4]\n",
      " [ 9890     0     2]\n",
      " [ 9981     0     3]\n",
      " [10101     0     1]\n",
      " [10220     0     4]\n",
      " [10315     0     2]\n",
      " [10411     0     3]\n",
      " [10531     0     1]\n",
      " [10649     0     5]\n",
      " [10734     0    32]\n",
      " [10740     0     2]\n",
      " [10836     0     3]\n",
      " [10945     0     1]\n",
      " [11042     0     4]\n",
      " [11162     0     2]\n",
      " [11278     0     3]\n",
      " [11371     0     1]\n",
      " [11465     0     4]\n",
      " [11560     0     2]\n",
      " [11671     0     3]\n",
      " [11773     0     1]\n",
      " [11882     0     4]\n",
      " [11973     0     2]\n",
      " [12071     0     3]\n",
      " [12180     0     1]\n",
      " [12275     0     4]\n",
      " [12367     0     2]\n",
      " [12474     0     3]\n",
      " [12567     0     1]\n",
      " [12670     0     4]\n",
      " [12761     0     2]\n",
      " [12859     0     5]\n",
      " [12950     0    32]\n",
      " [12970     0     1]\n",
      " [13063     0     4]\n",
      " [13168     0     2]\n",
      " [13279     0     3]\n",
      " [13373     0     1]\n",
      " [13478     0     4]\n",
      " [13580     0     2]\n",
      " [13674     0     3]\n",
      " [13775     0     1]\n",
      " [13865     0     4]\n",
      " [13969     0     2]\n",
      " [14067     0     3]\n",
      " [14179     0     1]\n",
      " [14295     0     4]\n",
      " [14403     0     2]\n",
      " [14519     0     3]\n",
      " [14612     0     1]\n",
      " [14728     0     4]\n",
      " [14830     0     5]\n",
      " [14919     0    32]\n",
      " [14934     0     3]\n",
      " [15032     0     1]\n",
      " [15140     0     4]\n",
      " [15258     0     2]\n",
      " [15364     0     3]\n",
      " [15467     0     1]\n",
      " [15570     0     4]\n",
      " [15670     0     2]\n",
      " [15767     0     3]\n",
      " [15883     0     1]\n",
      " [15980     0     4]\n",
      " [16096     0     2]\n",
      " [16192     0     3]\n",
      " [16295     0     1]\n",
      " [16410     0     4]\n",
      " [16517     0     2]\n",
      " [16634     0     3]\n",
      " [16741     0     1]\n",
      " [16850     0     5]\n",
      " [16945     0    32]\n",
      " [16952     0     2]\n",
      " [17049     0     3]\n",
      " [17166     0     1]\n",
      " [17265     0     4]\n",
      " [17364     0     2]\n",
      " [17464     0     3]\n",
      " [17564     0     1]\n",
      " [17665     0     4]\n",
      " [17782     0     2]\n",
      " [17902     0     3]\n",
      " [17997     0     1]\n",
      " [18110     0     4]\n",
      " [18206     0     2]\n",
      " [18314     0     3]\n",
      " [18429     0     1]\n",
      " [18543     0     4]\n",
      " [18635     0     2]\n",
      " [18729     0     3]\n",
      " [18826     0     5]\n",
      " [18906     0    32]\n",
      " [18931     0     4]\n",
      " [19021     0     2]\n",
      " [19119     0     3]\n",
      " [19223     0     1]\n",
      " [19326     0     4]\n",
      " [19420     0     2]\n",
      " [19532     0     3]\n",
      " [19634     0     1]\n",
      " [19733     0     4]\n",
      " [19840     0     2]\n",
      " [19954     0     3]\n",
      " [20052     0     1]\n",
      " [20156     0     4]\n",
      " [20254     0     2]\n",
      " [20360     0     3]\n",
      " [20477     0     1]\n",
      " [20583     0     4]\n",
      " [20678     0     2]\n",
      " [20787     0     3]\n",
      " [20892     0     1]\n",
      " [20996     0     4]\n",
      " [21111     0     2]\n",
      " [21224     0     5]\n",
      " [21277     0    32]\n",
      " [21324     0     1]\n",
      " [21416     0     4]\n",
      " [21526     0     2]\n",
      " [21630     0     3]\n",
      " [21742     0     1]\n",
      " [21838     0     4]\n",
      " [21931     0     2]\n",
      " [22037     0     3]\n",
      " [22148     0     1]\n",
      " [22256     0     4]\n",
      " [22374     0     2]\n",
      " [22487     0     3]\n",
      " [22604     0     1]\n",
      " [22703     0     4]\n",
      " [22798     0     2]\n",
      " [22900     0     3]\n",
      " [23009     0     1]\n",
      " [23103     0     4]\n",
      " [23200     0     5]\n",
      " [23254     0    32]\n",
      " [23317     0     3]\n",
      " [23417     0     1]\n",
      " [23523     0     4]\n",
      " [23635     0     2]\n",
      " [23740     0     3]\n",
      " [23858     0     1]\n",
      " [23970     0     4]\n",
      " [24082     0     2]\n",
      " [24197     0     3]\n",
      " [24308     0     1]\n",
      " [24425     0     4]\n",
      " [24528     0     2]\n",
      " [24624     0     3]\n",
      " [24725     0     1]\n",
      " [24840     0     4]\n",
      " [24948     0     2]\n",
      " [25039     0     3]\n",
      " [25155     0     1]\n",
      " [25272     0     5]\n",
      " [25367     0     2]\n",
      " [25385     0    32]\n",
      " [25477     0     3]\n",
      " [25572     0     1]\n",
      " [25678     0     4]\n",
      " [25798     0     2]\n",
      " [25897     0     3]\n",
      " [26008     0     1]\n",
      " [26108     0     4]\n",
      " [26227     0     2]\n",
      " [26337     0     3]\n",
      " [26440     0     1]\n",
      " [26543     0     4]\n",
      " [26655     0     2]\n",
      " [26747     0     3]\n",
      " [26838     0     1]\n",
      " [26935     0     4]\n",
      " [27042     0     2]\n",
      " [27154     0     3]\n",
      " [27243     0     5]\n",
      " [27331     0    32]\n",
      " [27341     0     4]\n",
      " [27435     0     2]\n",
      " [27552     0     3]\n",
      " [27643     0     1]\n",
      " [27751     0     4]\n",
      " [27860     0     2]\n",
      " [27959     0     3]\n",
      " [28073     0     1]\n",
      " [28185     0     4]\n",
      " [28285     0     2]\n",
      " [28397     0     3]\n",
      " [28488     0     1]\n",
      " [28581     0     4]\n",
      " [28685     0     2]\n",
      " [28790     0     3]\n",
      " [28904     0     1]\n",
      " [29020     0     4]\n",
      " [29131     0     2]\n",
      " [29232     0     3]\n",
      " [29326     0     1]\n",
      " [29428     0     4]\n",
      " [29525     0     5]\n",
      " [29592     0    32]\n",
      " [29620     0     3]\n",
      " [29719     0     1]\n",
      " [29808     0     4]\n",
      " [29924     0     2]\n",
      " [30027     0     3]\n",
      " [30134     0     1]\n",
      " [30246     0     4]\n",
      " [30348     0     2]\n",
      " [30450     0     3]\n",
      " [30554     0     1]\n",
      " [30671     0     4]\n",
      " [30766     0     2]\n",
      " [30862     0     3]\n",
      " [30982     0     1]\n",
      " [31101     0     4]\n",
      " [31207     0     2]\n",
      " [31325     0     3]\n",
      " [31427     0     1]\n",
      " [31530     0     5]\n",
      " [31617     0    32]\n",
      " [31636     0     2]\n",
      " [31737     0     3]\n",
      " [31832     0     1]\n",
      " [31926     0     4]\n",
      " [32018     0     2]\n",
      " [32127     0     3]\n",
      " [32231     0     1]\n",
      " [32321     0     4]\n",
      " [32433     0     2]\n",
      " [32527     0     3]\n",
      " [32623     0     1]\n",
      " [32719     0     4]\n",
      " [32813     0     2]\n",
      " [32918     0     3]\n",
      " [33020     0     1]\n",
      " [33139     0     4]\n",
      " [33243     0     2]\n",
      " [33362     0     3]\n",
      " [33481     0     5]\n",
      " [33571     0    32]\n",
      " [33579     0     4]\n",
      " [33682     0     2]\n",
      " [33775     0     3]\n",
      " [33883     0     1]\n",
      " [33979     0     4]\n",
      " [34071     0     2]\n",
      " [34180     0     3]\n",
      " [34283     0     1]\n",
      " [34394     0     4]\n",
      " [34498     0     2]\n",
      " [34603     0     3]\n",
      " [34709     0     1]\n",
      " [34826     0     4]\n",
      " [34934     0     2]\n",
      " [35047     0     3]\n",
      " [35153     0     1]\n",
      " [35271     0     4]\n",
      " [35390     0     2]\n",
      " [35495     0     3]\n",
      " [35611     0     5]\n",
      " [35703     0    32]\n",
      " [35804     0     2]\n",
      " [35917     0     3]\n",
      " [36017     0     1]\n",
      " [36136     0     4]\n",
      " [36229     0     2]\n",
      " [36322     0     3]\n",
      " [36416     0     1]\n",
      " [36521     0     4]\n",
      " [36636     0     2]\n",
      " [36752     0     3]\n",
      " [36864     0     1]\n",
      " [36963     0     4]\n",
      " [37076     0     2]\n",
      " [37180     0     3]\n",
      " [37290     0     1]\n",
      " [37388     0     4]\n",
      " [37497     0     2]\n",
      " [37607     0     3]\n",
      " [37718     0     1]\n",
      " [37816     0     4]\n",
      " [37906     0     2]\n",
      " [38007     0     5]\n",
      " [38084     0    32]\n",
      " [38106     0     1]\n",
      " [38206     0     4]\n",
      " [38302     0     2]\n",
      " [38420     0     3]\n",
      " [38520     0     1]\n",
      " [38621     0     4]\n",
      " [42168     0    32]]\n"
     ]
    }
   ],
   "source": [
    "print(events),"
   ]
  },
  {
   "cell_type": "code",
   "execution_count": 10,
   "metadata": {},
   "outputs": [
    {
     "data": {
      "text/plain": [
       "array([[ 6525,     0,   512],\n",
       "       [ 6797,     0,   512],\n",
       "       [ 7001,     0,   512],\n",
       "       [ 8621,     0,   512],\n",
       "       [11031,     0,   512],\n",
       "       [11348,     0,   512],\n",
       "       [13038,     0,   512],\n",
       "       [15025,     0,   512],\n",
       "       [15137,     0,   512],\n",
       "       [15330,     0,   512],\n",
       "       [15471,     0,   512],\n",
       "       [15770,     0,   512],\n",
       "       [17141,     0,   512],\n",
       "       [21557,     0,   512],\n",
       "       [21735,     0,   512],\n",
       "       [21811,     0,   512],\n",
       "       [23467,     0,   512],\n",
       "       [24751,     0,   512],\n",
       "       [25086,     0,   512],\n",
       "       [25672,     0,   512],\n",
       "       [26046,     0,   512],\n",
       "       [26500,     0,   512],\n",
       "       [26629,     0,   512],\n",
       "       [27114,     0,   512],\n",
       "       [27467,     0,   512],\n",
       "       [27724,     0,   512],\n",
       "       [27857,     0,   512],\n",
       "       [28143,     0,   512],\n",
       "       [28574,     0,   512],\n",
       "       [29641,     0,   512],\n",
       "       [31902,     0,   512],\n",
       "       [32688,     0,   512],\n",
       "       [32803,     0,   512],\n",
       "       [34393,     0,   512],\n",
       "       [34646,     0,   512],\n",
       "       [34783,     0,   512],\n",
       "       [35138,     0,   512],\n",
       "       [35339,     0,   512],\n",
       "       [38272,     0,   512],\n",
       "       [39237,     0,   512],\n",
       "       [39318,     0,   512],\n",
       "       [39460,     0,   512],\n",
       "       [46662,     0,   512],\n",
       "       [46742,     0,   512],\n",
       "       [46857,     0,   512],\n",
       "       [47088,     0,   512]])"
      ]
     },
     "execution_count": 10,
     "metadata": {},
     "output_type": "execute_result"
    }
   ],
   "source": [
    "eog_events"
   ]
  },
  {
   "cell_type": "code",
   "execution_count": 14,
   "metadata": {},
   "outputs": [
    {
     "name": "stdout",
     "output_type": "stream",
     "text": [
      "288 matching events found\n",
      "Applying baseline correction (mode: mean)\n",
      "Not setting metadata\n",
      "4 projection items activated\n"
     ]
    }
   ],
   "source": [
    "tmin,tmax = -0.2, 0.5\n",
    "##Read epochs\n",
    "picks = mne.pick_types(raw.info,meg=False,eeg=False,stim=True,eog=False)\n",
    "event_ids = {'AudL': 1, 'AudR': 2, 'VisL': 3, 'VisR': 4}\n",
    "epochs = mne.Epochs(raw,events,event_ids,tmin,tmax,picks=picks)"
   ]
  },
  {
   "cell_type": "code",
   "execution_count": 24,
   "metadata": {},
   "outputs": [
    {
     "name": "stdout",
     "output_type": "stream",
     "text": [
      "('epochs:', <Epochs  |   288 events (good & bad), -0.199795 - 0.499488 sec, baseline [None, 0], ~3.0 MB, data not loaded,\n",
      " 'AudL': 72\n",
      " 'AudR': 73\n",
      " 'VisL': 73\n",
      " 'VisR': 70>)\n",
      "('epochs info:', <Info | 19 non-empty fields\n",
      "    bads : list | 0 items\n",
      "    ch_names : list | STI 001, STI 002, STI 003, STI 004, STI 005, STI 006, STI 014, STI 015, STI 016\n",
      "    chs : list | 9 items (STIM: 9)\n",
      "    comps : list | 0 items\n",
      "    custom_ref_applied : bool | False\n",
      "    dev_head_t : Transform | 3 items\n",
      "    dig : list | 146 items\n",
      "    events : list | 0 items\n",
      "    file_id : dict | 4 items\n",
      "    highpass : float | 0.10000000149 Hz\n",
      "    hpi_meas : list | 1 items\n",
      "    hpi_results : list | 1 items\n",
      "    lowpass : float | 40.0 Hz\n",
      "    meas_date : tuple | 2002-12-03 19:01:10 GMT\n",
      "    meas_id : dict | 4 items\n",
      "    nchan : int | 9\n",
      "    proc_history : list | 0 items\n",
      "    projs : list | PCA-v1: on, PCA-v2: on, PCA-v3: on, ...\n",
      "    sfreq : float | 150.153747559 Hz\n",
      "    acq_pars : NoneType\n",
      "    acq_stim : NoneType\n",
      "    ctf_head_t : NoneType\n",
      "    description : NoneType\n",
      "    dev_ctf_t : NoneType\n",
      "    experimenter : NoneType\n",
      "    gantry_angle : NoneType\n",
      "    hpi_subsystem : NoneType\n",
      "    kit_system_id : NoneType\n",
      "    line_freq : NoneType\n",
      "    proj_id : NoneType\n",
      "    proj_name : NoneType\n",
      "    subject_info : NoneType\n",
      "    xplotter_layout : NoneType\n",
      ">)\n"
     ]
    }
   ],
   "source": [
    "print('epochs:',epochs)\n",
    "print(\"epochs info:\",epochs.info)"
   ]
  },
  {
   "cell_type": "code",
   "execution_count": 25,
   "metadata": {},
   "outputs": [],
   "source": [
    "## Get the stim channel data\n",
    "## https://martinos.org/mne/stable/generated/mne.pick_channels.html\n",
    "pick_ch = mne.pick_channels(epochs.ch_names,['STI 014'])[0] #convert channel names to channel index."
   ]
  },
  {
   "cell_type": "code",
   "execution_count": 30,
   "metadata": {},
   "outputs": [
    {
     "name": "stdout",
     "output_type": "stream",
     "text": [
      "Loading data for 288 events and 106 original time points ...\n"
     ]
    },
    {
     "data": {
      "text/plain": [
       "(288, 9, 106)"
      ]
     },
     "execution_count": 30,
     "metadata": {},
     "output_type": "execute_result"
    }
   ],
   "source": [
    "epochs.get_data().shape\n",
    "## (events,channels,times)"
   ]
  },
  {
   "cell_type": "code",
   "execution_count": 31,
   "metadata": {},
   "outputs": [
    {
     "name": "stdout",
     "output_type": "stream",
     "text": [
      "Loading data for 288 events and 106 original time points ...\n"
     ]
    },
    {
     "data": {
      "text/plain": [
       "(288, 106)"
      ]
     },
     "execution_count": 31,
     "metadata": {},
     "output_type": "execute_result"
    }
   ],
   "source": [
    "data = epochs.get_data()[:,pick_ch,:].astype(int)\n",
    "data.shape"
   ]
  },
  {
   "cell_type": "code",
   "execution_count": 49,
   "metadata": {},
   "outputs": [
    {
     "data": {
      "text/plain": [
       "array([  0,   0,   0,   0,   0,   0,   0,   0,   0,   0,   0,   0,   0,\n",
       "         0,   0,   0,   0,   0,   0,   0,   0,   0,   0,   0,   0,   0,\n",
       "         0,   0,   0,   0,   0,   0,   0,   0,   0,   0,   0,   0,   0,\n",
       "         0,   0,   0,   0,   0,   0,   0,   0,   0,   0,   0,   0,   0,\n",
       "         0,   0,   0,   0,   0,   0,   0,   0,   0,   0,   0,   0,   0,\n",
       "         0,   0,   0,   0,   0,   0,   0,   0,   0,   0,   0,   0,   0,\n",
       "         0,   0,   0,   0,   0,   0,   0,   0,   0,   0,   0,   0,   0,\n",
       "         0,   0,   0,   0,   0,   0,   0,   0,   0,   0,   0,   0,   0,\n",
       "         0,   0,   0,   0,   0,   0,   0,   0,   0,   0,   0,   0,   0,\n",
       "         0,   0,   0,   0,   0,   0,   0,   0,   0,   0,   0,   0,   0,\n",
       "         0,   0,   0,   0,   0,   0,   0,   0,   0,   0,   0,   0,   0,\n",
       "         0,   0,   0,   0,   0,   0,   0,   0,   0,   0,   0,   0,   0,\n",
       "         0,   0,   0,   0,   0,   0,   0,   0,   0,   0,   0,   0,   0,\n",
       "         0,   0,   0,   0,   0,   0,   0,   0,   0,   0,   0,   0,   0,\n",
       "         0,   0,   0,   0,   0,   0,   0,   0,   0,   0,   0,   0,   0,\n",
       "         0,   0,   0,   0,   0,   0,   0,   0,   0,   0,   0,   0,   0,\n",
       "         0,   0,   0,   0,   0,   0,   0,   0,   0,   0,   0,   0,   0,\n",
       "         0,   0,   0,   0,   0,   0,   0,   0,   0,   0,   0,   0,   0,\n",
       "         0,   0,   0,   0,   0,   0,   0,   0,   0,   0,   0,   0,   0,\n",
       "         0,   0,   0,   0,   0,   0,   0,   0,   0,   0,   0,   0,   0,\n",
       "         0,   0,   0,   0,   0,   0,   0,   0,   0,   0,   0,   0,   0,\n",
       "         0,   0,   0,   0,   0,   0,   0,   0,   0,   0,   0, 512,   0,\n",
       "         0,   0])"
      ]
     },
     "execution_count": 49,
     "metadata": {},
     "output_type": "execute_result"
    }
   ],
   "source": [
    "data[:,0]"
   ]
  },
  {
   "cell_type": "code",
   "execution_count": 41,
   "metadata": {},
   "outputs": [],
   "source": [
    "data_sum = np.sum((data & 512) == 512, axis=0) # 统计每个时刻为'512'（每行;共106个时刻）的个数"
   ]
  },
  {
   "cell_type": "code",
   "execution_count": 43,
   "metadata": {},
   "outputs": [
    {
     "data": {
      "text/plain": [
       "1"
      ]
     },
     "execution_count": 43,
     "metadata": {},
     "output_type": "execute_result"
    }
   ],
   "source": [
    "data_sum[0]"
   ]
  },
  {
   "cell_type": "code",
   "execution_count": 48,
   "metadata": {},
   "outputs": [
    {
     "data": {
      "text/plain": [
       "array([1, 0, 0, 2, 1, 2, 1, 1, 0, 0, 0, 0, 0, 0, 0, 1, 0, 0, 1, 1, 1, 0, 0,\n",
       "       3, 1, 0, 0, 2, 0, 1, 0, 0, 0, 1, 1, 0, 0, 1, 0, 0, 0, 0, 0, 0, 0, 0,\n",
       "       0, 0, 0, 0, 0, 1, 0, 0, 0, 0, 1, 0, 0, 0, 0, 1, 1, 0, 0, 0, 0, 0, 1,\n",
       "       0, 0, 0, 0, 1, 0, 0, 0, 1, 0, 0, 1, 0, 0, 0, 0, 0, 0, 0, 0, 0, 1, 0,\n",
       "       0, 0, 0, 1, 1, 0, 2, 1, 3, 0, 2, 0, 1, 0])"
      ]
     },
     "execution_count": 48,
     "metadata": {},
     "output_type": "execute_result"
    }
   ],
   "source": [
    "data_sum"
   ]
  },
  {
   "cell_type": "code",
   "execution_count": 45,
   "metadata": {},
   "outputs": [
    {
     "data": {
      "image/png": "[encoded data removed]",
      "text/plain": [
       "<matplotlib.figure.Figure at 0x7f50d55d49d0>"
      ]
     },
     "metadata": {},
     "output_type": "display_data"
    }
   ],
   "source": [
    "## Plot EOG artifact distribution\n",
    "## STI 014\n",
    "plt.stem(1e3 * epochs.times, data_sum)\n",
    "plt.xlabel('Times (ms)')\n",
    "plt.ylabel('Blink counts (from %s trials)' % len(epochs))\n",
    "plt.show()"
   ]
  },
  {
   "cell_type": "code",
   "execution_count": 59,
   "metadata": {},
   "outputs": [
    {
     "name": "stdout",
     "output_type": "stream",
     "text": [
      "Loading data for 288 events and 106 original time points ...\n"
     ]
    },
    {
     "data": {
      "image/png": "[encoded data removed]",
      "text/plain": [
       "<matplotlib.figure.Figure at 0x7f50c15f41d0>"
      ]
     },
     "metadata": {},
     "output_type": "display_data"
    }
   ],
   "source": [
    "# Get the stim channel data\n",
    "# STI 006\n",
    "pick_ch = mne.pick_channels(epochs.ch_names, ['STI 006'])[0]\n",
    "data = epochs.get_data()[:, pick_ch, :].astype(int)\n",
    "data = np.sum((data.astype(int) & 512) == 512, axis=0)\n",
    "plt.stem(1e3 * epochs.times, data)\n",
    "plt.xlabel('Times (ms)')\n",
    "plt.ylabel('Blink counts (from %s trials)' % len(epochs))\n",
    "plt.show()"
   ]
  },
  {
   "cell_type": "markdown",
   "metadata": {},
   "source": [
    "### Reference\n",
    "- [Show EOG artifact timing](https://mne-tools.github.io/0.13/auto_examples/preprocessing/plot_eog_artifact_histogram.html#sphx-glr-auto-examples-preprocessing-plot-eog-artifact-histogram-py)\n",
    "\n",
    "### 学习其他\n",
    "- [Find EOG artifacts](https://martinos.org/mne/stable/auto_examples/preprocessing/plot_find_eog_artifacts.html#sphx-glr-auto-examples-preprocessing-plot-find-eog-artifacts-py)"
   ]
  }
 ],
 "metadata": {
  "kernelspec": {
   "display_name": "Python [default]",
   "language": "python",
   "name": "python2"
  },
  "language_info": {
   "codemirror_mode": {
    "name": "ipython",
    "version": 2
   },
   "file_extension": ".py",
   "mimetype": "text/x-python",
   "name": "python",
   "nbconvert_exporter": "python",
   "pygments_lexer": "ipython2",
   "version": "2.7.15"
  }
 },
 "nbformat": 4,
 "nbformat_minor": 2
}
